{
  "nbformat": 4,
  "nbformat_minor": 0,
  "metadata": {
    "colab": {
      "name": "Untitled4.ipynb",
      "provenance": [],
      "collapsed_sections": [],
      "authorship_tag": "ABX9TyMx8IZEgxqBb5VL0s19PvEu",
      "include_colab_link": true
    },
    "kernelspec": {
      "name": "python3",
      "display_name": "Python 3"
    },
    "language_info": {
      "name": "python"
    }
  },
  "cells": [
    {
      "cell_type": "markdown",
      "metadata": {
        "id": "view-in-github",
        "colab_type": "text"
      },
      "source": [
        "<a href=\"https://colab.research.google.com/github/gskim1223/first_jaesung/blob/main/Untitled4.ipynb\" target=\"_parent\"><img src=\"https://colab.research.google.com/assets/colab-badge.svg\" alt=\"Open In Colab\"/></a>"
      ]
    },
    {
      "cell_type": "code",
      "metadata": {
        "id": "Sgwofvql45HV"
      },
      "source": [
        "#라이브러리 사용\n",
        "import tensorflow as tf\n",
        "import pandas as pd"
      ],
      "execution_count": 1,
      "outputs": []
    },
    {
      "cell_type": "code",
      "metadata": {
        "colab": {
          "base_uri": "https://localhost:8080/",
          "height": 202
        },
        "id": "Jbtz23mNDxE4",
        "outputId": "5a9f38d1-d498-4359-fdc6-4e268be8b4dc"
      },
      "source": [
        "#과거의 데이터를 준비 합니다. \n",
        "파일경로 = 'https://raw.githubusercontent.com/blackdew/tensorflow1/master/csv/iris.csv'\n",
        "아이리스 = pd.read_csv(파일경로)\n",
        "아이리스.head()"
      ],
      "execution_count": 6,
      "outputs": [
        {
          "output_type": "execute_result",
          "data": {
            "text/html": [
              "<div>\n",
              "<style scoped>\n",
              "    .dataframe tbody tr th:only-of-type {\n",
              "        vertical-align: middle;\n",
              "    }\n",
              "\n",
              "    .dataframe tbody tr th {\n",
              "        vertical-align: top;\n",
              "    }\n",
              "\n",
              "    .dataframe thead th {\n",
              "        text-align: right;\n",
              "    }\n",
              "</style>\n",
              "<table border=\"1\" class=\"dataframe\">\n",
              "  <thead>\n",
              "    <tr style=\"text-align: right;\">\n",
              "      <th></th>\n",
              "      <th>꽃잎길이</th>\n",
              "      <th>꽃잎폭</th>\n",
              "      <th>꽃받침길이</th>\n",
              "      <th>꽃받침폭</th>\n",
              "      <th>품종</th>\n",
              "    </tr>\n",
              "  </thead>\n",
              "  <tbody>\n",
              "    <tr>\n",
              "      <th>0</th>\n",
              "      <td>5.1</td>\n",
              "      <td>3.5</td>\n",
              "      <td>1.4</td>\n",
              "      <td>0.2</td>\n",
              "      <td>setosa</td>\n",
              "    </tr>\n",
              "    <tr>\n",
              "      <th>1</th>\n",
              "      <td>4.9</td>\n",
              "      <td>3.0</td>\n",
              "      <td>1.4</td>\n",
              "      <td>0.2</td>\n",
              "      <td>setosa</td>\n",
              "    </tr>\n",
              "    <tr>\n",
              "      <th>2</th>\n",
              "      <td>4.7</td>\n",
              "      <td>3.2</td>\n",
              "      <td>1.3</td>\n",
              "      <td>0.2</td>\n",
              "      <td>setosa</td>\n",
              "    </tr>\n",
              "    <tr>\n",
              "      <th>3</th>\n",
              "      <td>4.6</td>\n",
              "      <td>3.1</td>\n",
              "      <td>1.5</td>\n",
              "      <td>0.2</td>\n",
              "      <td>setosa</td>\n",
              "    </tr>\n",
              "    <tr>\n",
              "      <th>4</th>\n",
              "      <td>5.0</td>\n",
              "      <td>3.6</td>\n",
              "      <td>1.4</td>\n",
              "      <td>0.2</td>\n",
              "      <td>setosa</td>\n",
              "    </tr>\n",
              "  </tbody>\n",
              "</table>\n",
              "</div>"
            ],
            "text/plain": [
              "   꽃잎길이  꽃잎폭  꽃받침길이  꽃받침폭      품종\n",
              "0   5.1  3.5    1.4   0.2  setosa\n",
              "1   4.9  3.0    1.4   0.2  setosa\n",
              "2   4.7  3.2    1.3   0.2  setosa\n",
              "3   4.6  3.1    1.5   0.2  setosa\n",
              "4   5.0  3.6    1.4   0.2  setosa"
            ]
          },
          "metadata": {
            "tags": []
          },
          "execution_count": 6
        }
      ]
    },
    {
      "cell_type": "code",
      "metadata": {
        "colab": {
          "base_uri": "https://localhost:8080/",
          "height": 202
        },
        "id": "ZqFvh6OcE8PL",
        "outputId": "571011c4-ea1f-4ba7-c3de-24bc2c5ca1b6"
      },
      "source": [
        "# 원핫인코딩\n",
        "인코딩=pd.get_dummies(아이리스)\n",
        "인코딩.head()"
      ],
      "execution_count": 9,
      "outputs": [
        {
          "output_type": "execute_result",
          "data": {
            "text/html": [
              "<div>\n",
              "<style scoped>\n",
              "    .dataframe tbody tr th:only-of-type {\n",
              "        vertical-align: middle;\n",
              "    }\n",
              "\n",
              "    .dataframe tbody tr th {\n",
              "        vertical-align: top;\n",
              "    }\n",
              "\n",
              "    .dataframe thead th {\n",
              "        text-align: right;\n",
              "    }\n",
              "</style>\n",
              "<table border=\"1\" class=\"dataframe\">\n",
              "  <thead>\n",
              "    <tr style=\"text-align: right;\">\n",
              "      <th></th>\n",
              "      <th>꽃잎길이</th>\n",
              "      <th>꽃잎폭</th>\n",
              "      <th>꽃받침길이</th>\n",
              "      <th>꽃받침폭</th>\n",
              "      <th>품종_setosa</th>\n",
              "      <th>품종_versicolor</th>\n",
              "      <th>품종_virginica</th>\n",
              "    </tr>\n",
              "  </thead>\n",
              "  <tbody>\n",
              "    <tr>\n",
              "      <th>0</th>\n",
              "      <td>5.1</td>\n",
              "      <td>3.5</td>\n",
              "      <td>1.4</td>\n",
              "      <td>0.2</td>\n",
              "      <td>1</td>\n",
              "      <td>0</td>\n",
              "      <td>0</td>\n",
              "    </tr>\n",
              "    <tr>\n",
              "      <th>1</th>\n",
              "      <td>4.9</td>\n",
              "      <td>3.0</td>\n",
              "      <td>1.4</td>\n",
              "      <td>0.2</td>\n",
              "      <td>1</td>\n",
              "      <td>0</td>\n",
              "      <td>0</td>\n",
              "    </tr>\n",
              "    <tr>\n",
              "      <th>2</th>\n",
              "      <td>4.7</td>\n",
              "      <td>3.2</td>\n",
              "      <td>1.3</td>\n",
              "      <td>0.2</td>\n",
              "      <td>1</td>\n",
              "      <td>0</td>\n",
              "      <td>0</td>\n",
              "    </tr>\n",
              "    <tr>\n",
              "      <th>3</th>\n",
              "      <td>4.6</td>\n",
              "      <td>3.1</td>\n",
              "      <td>1.5</td>\n",
              "      <td>0.2</td>\n",
              "      <td>1</td>\n",
              "      <td>0</td>\n",
              "      <td>0</td>\n",
              "    </tr>\n",
              "    <tr>\n",
              "      <th>4</th>\n",
              "      <td>5.0</td>\n",
              "      <td>3.6</td>\n",
              "      <td>1.4</td>\n",
              "      <td>0.2</td>\n",
              "      <td>1</td>\n",
              "      <td>0</td>\n",
              "      <td>0</td>\n",
              "    </tr>\n",
              "  </tbody>\n",
              "</table>\n",
              "</div>"
            ],
            "text/plain": [
              "   꽃잎길이  꽃잎폭  꽃받침길이  꽃받침폭  품종_setosa  품종_versicolor  품종_virginica\n",
              "0   5.1  3.5    1.4   0.2          1              0             0\n",
              "1   4.9  3.0    1.4   0.2          1              0             0\n",
              "2   4.7  3.2    1.3   0.2          1              0             0\n",
              "3   4.6  3.1    1.5   0.2          1              0             0\n",
              "4   5.0  3.6    1.4   0.2          1              0             0"
            ]
          },
          "metadata": {
            "tags": []
          },
          "execution_count": 9
        }
      ]
    },
    {
      "cell_type": "code",
      "metadata": {
        "colab": {
          "base_uri": "https://localhost:8080/"
        },
        "id": "8Nes3-o1FIIr",
        "outputId": "d266e035-4de9-40f2-e35d-c067266868ec"
      },
      "source": [
        "print(인코딩.columns)\n"
      ],
      "execution_count": 11,
      "outputs": [
        {
          "output_type": "stream",
          "text": [
            "Index(['꽃잎길이', '꽃잎폭', '꽃받침길이', '꽃받침폭', '품종_setosa', '품종_versicolor',\n",
            "       '품종_virginica'],\n",
            "      dtype='object')\n"
          ],
          "name": "stdout"
        }
      ]
    },
    {
      "cell_type": "code",
      "metadata": {
        "colab": {
          "base_uri": "https://localhost:8080/"
        },
        "id": "CU4SscrNFRTY",
        "outputId": "c1f3f7bd-2035-4d9f-f6bb-ed647152a121"
      },
      "source": [
        "# 독립변수, 종속변수\n",
        "독립 = 인코딩[['꽃잎길이', '꽃잎폭', '꽃받침길이', '꽃받침폭']]\n",
        "종속 = 인코딩[['품종_setosa', '품종_versicolor','품종_virginica']]\n",
        "print(독립.shape, 종속.shape)\n",
        "         "
      ],
      "execution_count": 12,
      "outputs": [
        {
          "output_type": "stream",
          "text": [
            "(150, 4) (150, 3)\n"
          ],
          "name": "stdout"
        }
      ]
    },
    {
      "cell_type": "code",
      "metadata": {
        "id": "qd6ID7mhF11A"
      },
      "source": [
        "#모델의 구조를 만듭니다. \n",
        "X  = tf.keras.layers.Input(shape=[4])\n",
        "Y = tf.keras.layers.Dense(3,activation='softmax')(X)\n",
        "model = tf.keras.models.Model(X,Y)\n",
        "model.compile(loss='categorical_crossentropy',\n",
        "              metrics='accuracy')"
      ],
      "execution_count": 18,
      "outputs": []
    },
    {
      "cell_type": "code",
      "metadata": {
        "colab": {
          "base_uri": "https://localhost:8080/"
        },
        "id": "rj2vG5xvGqao",
        "outputId": "bd54bf43-af20-44b4-99af-991da7032e4c"
      },
      "source": [
        "#데이터로 모델을 학습(FIT)합니다.\n",
        "model.fit(독립, 종속, epochs=100)"
      ],
      "execution_count": 20,
      "outputs": [
        {
          "output_type": "stream",
          "text": [
            "Epoch 1/100\n",
            "5/5 [==============================] - 0s 2ms/step - loss: 5.1256 - accuracy: 0.3333\n",
            "Epoch 2/100\n",
            "5/5 [==============================] - 0s 3ms/step - loss: 5.0178 - accuracy: 0.3333\n",
            "Epoch 3/100\n",
            "5/5 [==============================] - 0s 2ms/step - loss: 4.9106 - accuracy: 0.3333\n",
            "Epoch 4/100\n",
            "5/5 [==============================] - 0s 3ms/step - loss: 4.8050 - accuracy: 0.3333\n",
            "Epoch 5/100\n",
            "5/5 [==============================] - 0s 3ms/step - loss: 4.6980 - accuracy: 0.3333\n",
            "Epoch 6/100\n",
            "5/5 [==============================] - 0s 2ms/step - loss: 4.5929 - accuracy: 0.3333\n",
            "Epoch 7/100\n",
            "5/5 [==============================] - 0s 2ms/step - loss: 4.4868 - accuracy: 0.3333\n",
            "Epoch 8/100\n",
            "5/5 [==============================] - 0s 2ms/step - loss: 4.3783 - accuracy: 0.3333\n",
            "Epoch 9/100\n",
            "5/5 [==============================] - 0s 2ms/step - loss: 4.2728 - accuracy: 0.3333\n",
            "Epoch 10/100\n",
            "5/5 [==============================] - 0s 2ms/step - loss: 4.1698 - accuracy: 0.3333\n",
            "Epoch 11/100\n",
            "5/5 [==============================] - 0s 3ms/step - loss: 4.0658 - accuracy: 0.3333\n",
            "Epoch 12/100\n",
            "5/5 [==============================] - 0s 3ms/step - loss: 3.9606 - accuracy: 0.3333\n",
            "Epoch 13/100\n",
            "5/5 [==============================] - 0s 3ms/step - loss: 3.8540 - accuracy: 0.3333\n",
            "Epoch 14/100\n",
            "5/5 [==============================] - 0s 3ms/step - loss: 3.7510 - accuracy: 0.3333\n",
            "Epoch 15/100\n",
            "5/5 [==============================] - 0s 3ms/step - loss: 3.6469 - accuracy: 0.3333\n",
            "Epoch 16/100\n",
            "5/5 [==============================] - 0s 3ms/step - loss: 3.5454 - accuracy: 0.3333\n",
            "Epoch 17/100\n",
            "5/5 [==============================] - 0s 3ms/step - loss: 3.4460 - accuracy: 0.3333\n",
            "Epoch 18/100\n",
            "5/5 [==============================] - 0s 3ms/step - loss: 3.3445 - accuracy: 0.3333\n",
            "Epoch 19/100\n",
            "5/5 [==============================] - 0s 3ms/step - loss: 3.2437 - accuracy: 0.3333\n",
            "Epoch 20/100\n",
            "5/5 [==============================] - 0s 3ms/step - loss: 3.1446 - accuracy: 0.3333\n",
            "Epoch 21/100\n",
            "5/5 [==============================] - 0s 3ms/step - loss: 3.0452 - accuracy: 0.3333\n",
            "Epoch 22/100\n",
            "5/5 [==============================] - 0s 4ms/step - loss: 2.9476 - accuracy: 0.3333\n",
            "Epoch 23/100\n",
            "5/5 [==============================] - 0s 3ms/step - loss: 2.8533 - accuracy: 0.3333\n",
            "Epoch 24/100\n",
            "5/5 [==============================] - 0s 3ms/step - loss: 2.7573 - accuracy: 0.3333\n",
            "Epoch 25/100\n",
            "5/5 [==============================] - 0s 4ms/step - loss: 2.6633 - accuracy: 0.3333\n",
            "Epoch 26/100\n",
            "5/5 [==============================] - 0s 3ms/step - loss: 2.5732 - accuracy: 0.3333\n",
            "Epoch 27/100\n",
            "5/5 [==============================] - 0s 2ms/step - loss: 2.4858 - accuracy: 0.3333\n",
            "Epoch 28/100\n",
            "5/5 [==============================] - 0s 2ms/step - loss: 2.4011 - accuracy: 0.3333\n",
            "Epoch 29/100\n",
            "5/5 [==============================] - 0s 2ms/step - loss: 2.3190 - accuracy: 0.3333\n",
            "Epoch 30/100\n",
            "5/5 [==============================] - 0s 3ms/step - loss: 2.2394 - accuracy: 0.3333\n",
            "Epoch 31/100\n",
            "5/5 [==============================] - 0s 3ms/step - loss: 2.1591 - accuracy: 0.3333\n",
            "Epoch 32/100\n",
            "5/5 [==============================] - 0s 3ms/step - loss: 2.0816 - accuracy: 0.3333\n",
            "Epoch 33/100\n",
            "5/5 [==============================] - 0s 2ms/step - loss: 2.0072 - accuracy: 0.3333\n",
            "Epoch 34/100\n",
            "5/5 [==============================] - 0s 3ms/step - loss: 1.9365 - accuracy: 0.3133\n",
            "Epoch 35/100\n",
            "5/5 [==============================] - 0s 4ms/step - loss: 1.8706 - accuracy: 0.3133\n",
            "Epoch 36/100\n",
            "5/5 [==============================] - 0s 3ms/step - loss: 1.8086 - accuracy: 0.3000\n",
            "Epoch 37/100\n",
            "5/5 [==============================] - 0s 3ms/step - loss: 1.7488 - accuracy: 0.2600\n",
            "Epoch 38/100\n",
            "5/5 [==============================] - 0s 4ms/step - loss: 1.6929 - accuracy: 0.2133\n",
            "Epoch 39/100\n",
            "5/5 [==============================] - 0s 2ms/step - loss: 1.6415 - accuracy: 0.2000\n",
            "Epoch 40/100\n",
            "5/5 [==============================] - 0s 3ms/step - loss: 1.5937 - accuracy: 0.1467\n",
            "Epoch 41/100\n",
            "5/5 [==============================] - 0s 3ms/step - loss: 1.5503 - accuracy: 0.1267\n",
            "Epoch 42/100\n",
            "5/5 [==============================] - 0s 5ms/step - loss: 1.5084 - accuracy: 0.1067\n",
            "Epoch 43/100\n",
            "5/5 [==============================] - 0s 3ms/step - loss: 1.4688 - accuracy: 0.1067\n",
            "Epoch 44/100\n",
            "5/5 [==============================] - 0s 2ms/step - loss: 1.4319 - accuracy: 0.1133\n",
            "Epoch 45/100\n",
            "5/5 [==============================] - 0s 3ms/step - loss: 1.3999 - accuracy: 0.0867\n",
            "Epoch 46/100\n",
            "5/5 [==============================] - 0s 2ms/step - loss: 1.3710 - accuracy: 0.1000\n",
            "Epoch 47/100\n",
            "5/5 [==============================] - 0s 4ms/step - loss: 1.3452 - accuracy: 0.1000\n",
            "Epoch 48/100\n",
            "5/5 [==============================] - 0s 3ms/step - loss: 1.3205 - accuracy: 0.1200\n",
            "Epoch 49/100\n",
            "5/5 [==============================] - 0s 3ms/step - loss: 1.2977 - accuracy: 0.1267\n",
            "Epoch 50/100\n",
            "5/5 [==============================] - 0s 3ms/step - loss: 1.2764 - accuracy: 0.1800\n",
            "Epoch 51/100\n",
            "5/5 [==============================] - 0s 3ms/step - loss: 1.2586 - accuracy: 0.1800\n",
            "Epoch 52/100\n",
            "5/5 [==============================] - 0s 3ms/step - loss: 1.2418 - accuracy: 0.2000\n",
            "Epoch 53/100\n",
            "5/5 [==============================] - 0s 3ms/step - loss: 1.2251 - accuracy: 0.2133\n",
            "Epoch 54/100\n",
            "5/5 [==============================] - 0s 3ms/step - loss: 1.2115 - accuracy: 0.2333\n",
            "Epoch 55/100\n",
            "5/5 [==============================] - 0s 3ms/step - loss: 1.1990 - accuracy: 0.2467\n",
            "Epoch 56/100\n",
            "5/5 [==============================] - 0s 3ms/step - loss: 1.1864 - accuracy: 0.2600\n",
            "Epoch 57/100\n",
            "5/5 [==============================] - 0s 2ms/step - loss: 1.1752 - accuracy: 0.3000\n",
            "Epoch 58/100\n",
            "5/5 [==============================] - 0s 2ms/step - loss: 1.1654 - accuracy: 0.3067\n",
            "Epoch 59/100\n",
            "5/5 [==============================] - 0s 3ms/step - loss: 1.1551 - accuracy: 0.3267\n",
            "Epoch 60/100\n",
            "5/5 [==============================] - 0s 3ms/step - loss: 1.1447 - accuracy: 0.3400\n",
            "Epoch 61/100\n",
            "5/5 [==============================] - 0s 3ms/step - loss: 1.1352 - accuracy: 0.3800\n",
            "Epoch 62/100\n",
            "5/5 [==============================] - 0s 4ms/step - loss: 1.1265 - accuracy: 0.3867\n",
            "Epoch 63/100\n",
            "5/5 [==============================] - 0s 3ms/step - loss: 1.1170 - accuracy: 0.3800\n",
            "Epoch 64/100\n",
            "5/5 [==============================] - 0s 3ms/step - loss: 1.1081 - accuracy: 0.3867\n",
            "Epoch 65/100\n",
            "5/5 [==============================] - 0s 3ms/step - loss: 1.0988 - accuracy: 0.4200\n",
            "Epoch 66/100\n",
            "5/5 [==============================] - 0s 2ms/step - loss: 1.0911 - accuracy: 0.4267\n",
            "Epoch 67/100\n",
            "5/5 [==============================] - 0s 3ms/step - loss: 1.0823 - accuracy: 0.4133\n",
            "Epoch 68/100\n",
            "5/5 [==============================] - 0s 3ms/step - loss: 1.0731 - accuracy: 0.4200\n",
            "Epoch 69/100\n",
            "5/5 [==============================] - 0s 3ms/step - loss: 1.0647 - accuracy: 0.4267\n",
            "Epoch 70/100\n",
            "5/5 [==============================] - 0s 3ms/step - loss: 1.0570 - accuracy: 0.4267\n",
            "Epoch 71/100\n",
            "5/5 [==============================] - 0s 3ms/step - loss: 1.0485 - accuracy: 0.4600\n",
            "Epoch 72/100\n",
            "5/5 [==============================] - 0s 2ms/step - loss: 1.0410 - accuracy: 0.4533\n",
            "Epoch 73/100\n",
            "5/5 [==============================] - 0s 3ms/step - loss: 1.0330 - accuracy: 0.4600\n",
            "Epoch 74/100\n",
            "5/5 [==============================] - 0s 3ms/step - loss: 1.0251 - accuracy: 0.4600\n",
            "Epoch 75/100\n",
            "5/5 [==============================] - 0s 3ms/step - loss: 1.0165 - accuracy: 0.4733\n",
            "Epoch 76/100\n",
            "5/5 [==============================] - 0s 3ms/step - loss: 1.0089 - accuracy: 0.4667\n",
            "Epoch 77/100\n",
            "5/5 [==============================] - 0s 3ms/step - loss: 1.0004 - accuracy: 0.4933\n",
            "Epoch 78/100\n",
            "5/5 [==============================] - 0s 3ms/step - loss: 0.9924 - accuracy: 0.4867\n",
            "Epoch 79/100\n",
            "5/5 [==============================] - 0s 3ms/step - loss: 0.9842 - accuracy: 0.5333\n",
            "Epoch 80/100\n",
            "5/5 [==============================] - 0s 3ms/step - loss: 0.9761 - accuracy: 0.5133\n",
            "Epoch 81/100\n",
            "5/5 [==============================] - 0s 4ms/step - loss: 0.9688 - accuracy: 0.5000\n",
            "Epoch 82/100\n",
            "5/5 [==============================] - 0s 3ms/step - loss: 0.9602 - accuracy: 0.5267\n",
            "Epoch 83/100\n",
            "5/5 [==============================] - 0s 3ms/step - loss: 0.9529 - accuracy: 0.5267\n",
            "Epoch 84/100\n",
            "5/5 [==============================] - 0s 3ms/step - loss: 0.9449 - accuracy: 0.5600\n",
            "Epoch 85/100\n",
            "5/5 [==============================] - 0s 3ms/step - loss: 0.9373 - accuracy: 0.6067\n",
            "Epoch 86/100\n",
            "5/5 [==============================] - 0s 4ms/step - loss: 0.9309 - accuracy: 0.6333\n",
            "Epoch 87/100\n",
            "5/5 [==============================] - 0s 4ms/step - loss: 0.9230 - accuracy: 0.6667\n",
            "Epoch 88/100\n",
            "5/5 [==============================] - 0s 3ms/step - loss: 0.9164 - accuracy: 0.6733\n",
            "Epoch 89/100\n",
            "5/5 [==============================] - 0s 4ms/step - loss: 0.9093 - accuracy: 0.6733\n",
            "Epoch 90/100\n",
            "5/5 [==============================] - 0s 3ms/step - loss: 0.9024 - accuracy: 0.7200\n",
            "Epoch 91/100\n",
            "5/5 [==============================] - 0s 3ms/step - loss: 0.8951 - accuracy: 0.7267\n",
            "Epoch 92/100\n",
            "5/5 [==============================] - 0s 4ms/step - loss: 0.8879 - accuracy: 0.7267\n",
            "Epoch 93/100\n",
            "5/5 [==============================] - 0s 3ms/step - loss: 0.8811 - accuracy: 0.7467\n",
            "Epoch 94/100\n",
            "5/5 [==============================] - 0s 4ms/step - loss: 0.8742 - accuracy: 0.7333\n",
            "Epoch 95/100\n",
            "5/5 [==============================] - 0s 4ms/step - loss: 0.8669 - accuracy: 0.7467\n",
            "Epoch 96/100\n",
            "5/5 [==============================] - 0s 3ms/step - loss: 0.8603 - accuracy: 0.7800\n",
            "Epoch 97/100\n",
            "5/5 [==============================] - 0s 3ms/step - loss: 0.8551 - accuracy: 0.7533\n",
            "Epoch 98/100\n",
            "5/5 [==============================] - 0s 3ms/step - loss: 0.8483 - accuracy: 0.7667\n",
            "Epoch 99/100\n",
            "5/5 [==============================] - 0s 4ms/step - loss: 0.8422 - accuracy: 0.7800\n",
            "Epoch 100/100\n",
            "5/5 [==============================] - 0s 3ms/step - loss: 0.8360 - accuracy: 0.7933\n"
          ],
          "name": "stdout"
        },
        {
          "output_type": "execute_result",
          "data": {
            "text/plain": [
              "<tensorflow.python.keras.callbacks.History at 0x7fee8199d650>"
            ]
          },
          "metadata": {
            "tags": []
          },
          "execution_count": 20
        }
      ]
    },
    {
      "cell_type": "code",
      "metadata": {
        "colab": {
          "base_uri": "https://localhost:8080/"
        },
        "id": "pe3MvHonH1t9",
        "outputId": "41767cc2-1af0-4ab3-f160-a9b32353c5e7"
      },
      "source": [
        "#모델을 이용 합니다. \n",
        "model.predict(독립[0:5])"
      ],
      "execution_count": 22,
      "outputs": [
        {
          "output_type": "execute_result",
          "data": {
            "text/plain": [
              "array([[0.44968373, 0.31428286, 0.23603337],\n",
              "       [0.40288913, 0.3651766 , 0.23193428],\n",
              "       [0.42523825, 0.32632044, 0.24844125],\n",
              "       [0.44911286, 0.32172933, 0.22915787],\n",
              "       [0.4679221 , 0.29369912, 0.23837873]], dtype=float32)"
            ]
          },
          "metadata": {
            "tags": []
          },
          "execution_count": 22
        }
      ]
    },
    {
      "cell_type": "code",
      "metadata": {
        "colab": {
          "base_uri": "https://localhost:8080/"
        },
        "id": "5cp67ZvAJhiR",
        "outputId": "b71901f7-25f4-49b5-9d82-b79b7a69c89a"
      },
      "source": [
        "print(종속[0:5])"
      ],
      "execution_count": 24,
      "outputs": [
        {
          "output_type": "stream",
          "text": [
            "   품종_setosa  품종_versicolor  품종_virginica\n",
            "0          1              0             0\n",
            "1          1              0             0\n",
            "2          1              0             0\n",
            "3          1              0             0\n",
            "4          1              0             0\n"
          ],
          "name": "stdout"
        }
      ]
    },
    {
      "cell_type": "code",
      "metadata": {
        "colab": {
          "base_uri": "https://localhost:8080/"
        },
        "id": "dvQz5LcFJmPj",
        "outputId": "71e810be-bedb-4330-f046-a06dc1e2b357"
      },
      "source": [
        "print(종속[-5:])"
      ],
      "execution_count": 25,
      "outputs": [
        {
          "output_type": "stream",
          "text": [
            "     품종_setosa  품종_versicolor  품종_virginica\n",
            "145          0              0             1\n",
            "146          0              0             1\n",
            "147          0              0             1\n",
            "148          0              0             1\n",
            "149          0              0             1\n"
          ],
          "name": "stdout"
        }
      ]
    },
    {
      "cell_type": "code",
      "metadata": {
        "colab": {
          "base_uri": "https://localhost:8080/"
        },
        "id": "4SYjVar-JqEK",
        "outputId": "1337d3f0-df21-4c7a-9bfb-95d4f92ccb5f"
      },
      "source": [
        "#학습한 가중치\n",
        "model.get_weights()"
      ],
      "execution_count": 26,
      "outputs": [
        {
          "output_type": "execute_result",
          "data": {
            "text/plain": [
              "[array([[ 0.28273952,  0.6791749 ,  0.36414772],\n",
              "        [ 0.16547845, -0.5130365 , -0.05181259],\n",
              "        [ 0.36524642, -0.11976159, -0.3797934 ],\n",
              "        [-1.3630767 , -0.18118203,  1.2251129 ]], dtype=float32),\n",
              " array([-0.15292521,  0.28443795,  0.07325819], dtype=float32)]"
            ]
          },
          "metadata": {
            "tags": []
          },
          "execution_count": 26
        }
      ]
    },
    {
      "cell_type": "code",
      "metadata": {
        "id": "NK6xmdseJxKZ"
      },
      "source": [
        ""
      ],
      "execution_count": null,
      "outputs": []
    }
  ]
}