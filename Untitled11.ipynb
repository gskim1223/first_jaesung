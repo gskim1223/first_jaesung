{
  "nbformat": 4,
  "nbformat_minor": 0,
  "metadata": {
    "colab": {
      "name": "Untitled11.ipynb",
      "provenance": [],
      "authorship_tag": "ABX9TyNALPYrk0oD7FLwFCzlh0+6",
      "include_colab_link": true
    },
    "kernelspec": {
      "name": "python3",
      "display_name": "Python 3"
    },
    "language_info": {
      "name": "python"
    }
  },
  "cells": [
    {
      "cell_type": "markdown",
      "metadata": {
        "id": "view-in-github",
        "colab_type": "text"
      },
      "source": [
        "<a href=\"https://colab.research.google.com/github/gskim1223/first_jaesung/blob/main/Untitled11.ipynb\" target=\"_parent\"><img src=\"https://colab.research.google.com/assets/colab-badge.svg\" alt=\"Open In Colab\"/></a>"
      ]
    },
    {
      "cell_type": "code",
      "metadata": {
        "id": "-fH1mK9vsyL_"
      },
      "source": [
        "!wget -q https://raw.githubusercontent.com/blackdew/tensorflow1/master/csv/notMNIST_small.tar.gz\n",
        "!tar -xzf notMNIST_small.tar.gz"
      ],
      "execution_count": 4,
      "outputs": []
    },
    {
      "cell_type": "code",
      "metadata": {
        "id": "29tsXKC9sgOi"
      },
      "source": [
        "# 라이브러리 로딩\n",
        "import glob\n",
        "import numpy as np\n",
        "import pandas as pd\n",
        "import matplotlib.pyplot as plt\n",
        "import tensorflow as tf \n",
        " "
      ],
      "execution_count": 1,
      "outputs": []
    },
    {
      "cell_type": "code",
      "metadata": {
        "colab": {
          "base_uri": "https://localhost:8080/"
        },
        "id": "44W1ds3Lsgzj",
        "outputId": "a2478098-0977-424d-f68e-45cbdb01ffd0"
      },
      "source": [
        "# 이미지 읽어서 데이터 준비하기\n",
        "paths = glob.glob('./notMNIST_small/*/*.png')\n",
        "paths = np.random.permutation(paths)\n",
        "독립 = np.array([plt.imread(paths[i]) for i in range(len(paths))])\n",
        "종속 = np.array([paths[i].split('/')[-2] for i in range(len(paths))])\n",
        "print(독립.shape, 종속.shape)\n",
        " \n",
        "독립 = 독립.reshape(18724, 28, 28, 1)\n",
        "종속 = pd.get_dummies(종속)\n",
        "print(독립.shape, 종속.shape)"
      ],
      "execution_count": 5,
      "outputs": [
        {
          "output_type": "stream",
          "text": [
            "(18724, 28, 28) (18724,)\n",
            "(18724, 28, 28, 1) (18724, 10)\n"
          ],
          "name": "stdout"
        }
      ]
    },
    {
      "cell_type": "code",
      "metadata": {
        "id": "w1xFzaMPsifb"
      },
      "source": [
        "# 모델을 완성합니다. \n",
        "X = tf.keras.layers.Input(shape=[28, 28, 1])\n",
        " \n",
        "H = tf.keras.layers.Conv2D(6, kernel_size=5, padding='same', activation='swish')(X)\n",
        "H = tf.keras.layers.MaxPool2D()(H)\n",
        " \n",
        "H = tf.keras.layers.Conv2D(16, kernel_size=5, activation='swish')(H)\n",
        "H = tf.keras.layers.MaxPool2D()(H)\n",
        " \n",
        "H = tf.keras.layers.Flatten()(H)\n",
        "H = tf.keras.layers.Dense(120, activation='swish')(H)\n",
        "H = tf.keras.layers.Dense(84, activation='swish')(H)\n",
        "Y = tf.keras.layers.Dense(10, activation='softmax')(H)\n",
        " \n",
        "model = tf.keras.models.Model(X, Y)\n",
        "model.compile(loss='categorical_crossentropy', metrics='accuracy')\n",
        " "
      ],
      "execution_count": 6,
      "outputs": []
    },
    {
      "cell_type": "code",
      "metadata": {
        "colab": {
          "base_uri": "https://localhost:8080/"
        },
        "id": "mUtMTvW_skQD",
        "outputId": "e3738639-f0e3-4c6c-d5ca-c3668a0eeb9a"
      },
      "source": [
        "# 모델을 학습\n",
        "model.fit(독립, 종속, epochs=10)\n",
        " \n",
        "###########################\n",
        "# 모델을 이용합니다. \n",
        "pred = model.predict(독립[0:5])\n",
        "pd.DataFrame(pred).round(2)\n",
        " \n",
        "# 정답 확인\n",
        "종속[0:5]\n",
        " \n",
        "# 모델 확인\n",
        "model.summary()"
      ],
      "execution_count": 7,
      "outputs": [
        {
          "output_type": "stream",
          "text": [
            "Epoch 1/10\n",
            "586/586 [==============================] - 15s 23ms/step - loss: 0.7198 - accuracy: 0.7879\n",
            "Epoch 2/10\n",
            "586/586 [==============================] - 13s 23ms/step - loss: 0.2668 - accuracy: 0.9206\n",
            "Epoch 3/10\n",
            "586/586 [==============================] - 13s 23ms/step - loss: 0.1907 - accuracy: 0.9418\n",
            "Epoch 4/10\n",
            "586/586 [==============================] - 13s 23ms/step - loss: 0.1702 - accuracy: 0.9476\n",
            "Epoch 5/10\n",
            "586/586 [==============================] - 13s 23ms/step - loss: 0.1427 - accuracy: 0.9557\n",
            "Epoch 6/10\n",
            "586/586 [==============================] - 13s 23ms/step - loss: 0.1197 - accuracy: 0.9625\n",
            "Epoch 7/10\n",
            "586/586 [==============================] - 13s 23ms/step - loss: 0.0922 - accuracy: 0.9715\n",
            "Epoch 8/10\n",
            "586/586 [==============================] - 13s 23ms/step - loss: 0.0710 - accuracy: 0.9768\n",
            "Epoch 9/10\n",
            "586/586 [==============================] - 13s 23ms/step - loss: 0.0637 - accuracy: 0.9788\n",
            "Epoch 10/10\n",
            "586/586 [==============================] - 13s 23ms/step - loss: 0.0528 - accuracy: 0.9848\n",
            "Model: \"model_1\"\n",
            "_________________________________________________________________\n",
            "Layer (type)                 Output Shape              Param #   \n",
            "=================================================================\n",
            "input_2 (InputLayer)         [(None, 28, 28, 1)]       0         \n",
            "_________________________________________________________________\n",
            "conv2d_2 (Conv2D)            (None, 28, 28, 6)         156       \n",
            "_________________________________________________________________\n",
            "max_pooling2d_2 (MaxPooling2 (None, 14, 14, 6)         0         \n",
            "_________________________________________________________________\n",
            "conv2d_3 (Conv2D)            (None, 10, 10, 16)        2416      \n",
            "_________________________________________________________________\n",
            "max_pooling2d_3 (MaxPooling2 (None, 5, 5, 16)          0         \n",
            "_________________________________________________________________\n",
            "flatten_1 (Flatten)          (None, 400)               0         \n",
            "_________________________________________________________________\n",
            "dense_3 (Dense)              (None, 120)               48120     \n",
            "_________________________________________________________________\n",
            "dense_4 (Dense)              (None, 84)                10164     \n",
            "_________________________________________________________________\n",
            "dense_5 (Dense)              (None, 10)                850       \n",
            "=================================================================\n",
            "Total params: 61,706\n",
            "Trainable params: 61,706\n",
            "Non-trainable params: 0\n",
            "_________________________________________________________________\n"
          ],
          "name": "stdout"
        }
      ]
    },
    {
      "cell_type": "code",
      "metadata": {
        "id": "Qe3JQ1h3teQV"
      },
      "source": [
        ""
      ],
      "execution_count": null,
      "outputs": []
    }
  ]
}