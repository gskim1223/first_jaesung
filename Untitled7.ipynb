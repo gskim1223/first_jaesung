{
  "nbformat": 4,
  "nbformat_minor": 0,
  "metadata": {
    "colab": {
      "name": "Untitled7.ipynb",
      "provenance": [],
      "authorship_tag": "ABX9TyPZdGjfRY9D9+uP7PB3Aip8",
      "include_colab_link": true
    },
    "kernelspec": {
      "name": "python3",
      "display_name": "Python 3"
    },
    "language_info": {
      "name": "python"
    }
  },
  "cells": [
    {
      "cell_type": "markdown",
      "metadata": {
        "id": "view-in-github",
        "colab_type": "text"
      },
      "source": [
        "<a href=\"https://colab.research.google.com/github/gskim1223/first_jaesung/blob/main/Untitled7.ipynb\" target=\"_parent\"><img src=\"https://colab.research.google.com/assets/colab-badge.svg\" alt=\"Open In Colab\"/></a>"
      ]
    },
    {
      "cell_type": "code",
      "metadata": {
        "id": "3kPBe_R4a0D0"
      },
      "source": [
        "import tensorflow as tf\n",
        "import pandas as pd\n",
        " "
      ],
      "execution_count": 1,
      "outputs": []
    },
    {
      "cell_type": "code",
      "metadata": {
        "colab": {
          "base_uri": "https://localhost:8080/"
        },
        "id": "V6EPflZHbKjO",
        "outputId": "bf949316-8cae-44c7-9b26-187b2310cc47"
      },
      "source": [
        "# 데이터를 준비하고\n",
        "(독립, 종속), _ = tf.keras.datasets.mnist.load_data()\n",
        "독립 = 독립.reshape(60000, 784)\n",
        "종속 = pd.get_dummies(종속)\n",
        "print(독립.shape, 종속.shape)\n",
        " "
      ],
      "execution_count": 2,
      "outputs": [
        {
          "output_type": "stream",
          "text": [
            "Downloading data from https://storage.googleapis.com/tensorflow/tf-keras-datasets/mnist.npz\n",
            "11493376/11490434 [==============================] - 0s 0us/step\n",
            "(60000, 784) (60000, 10)\n"
          ],
          "name": "stdout"
        }
      ]
    },
    {
      "cell_type": "code",
      "metadata": {
        "id": "NbHNlD2AbMrS"
      },
      "source": [
        "# 모델을 만들고\n",
        "X = tf.keras.layers.Input(shape=[784])\n",
        "H = tf.keras.layers.Dense(84, activation='swish')(X)\n",
        "Y = tf.keras.layers.Dense(10, activation='softmax')(H)\n",
        "model = tf.keras.models.Model(X, Y)\n",
        "model.compile(loss='categorical_crossentropy', metrics='accuracy')\n",
        " "
      ],
      "execution_count": 3,
      "outputs": []
    },
    {
      "cell_type": "code",
      "metadata": {
        "colab": {
          "base_uri": "https://localhost:8080/"
        },
        "id": "vEs_Eac1bPMv",
        "outputId": "8082a06a-8103-47e8-c19d-ece189d37d56"
      },
      "source": [
        "# 모델을 학습하고\n",
        "model.fit(독립, 종속, epochs=10)\n",
        " "
      ],
      "execution_count": 4,
      "outputs": [
        {
          "output_type": "stream",
          "text": [
            "Epoch 1/10\n",
            "1875/1875 [==============================] - 5s 2ms/step - loss: 6.7889 - accuracy: 0.7836\n",
            "Epoch 2/10\n",
            "1875/1875 [==============================] - 4s 2ms/step - loss: 0.5684 - accuracy: 0.9144\n",
            "Epoch 3/10\n",
            "1875/1875 [==============================] - 4s 2ms/step - loss: 0.4437 - accuracy: 0.9348\n",
            "Epoch 4/10\n",
            "1875/1875 [==============================] - 4s 2ms/step - loss: 0.3957 - accuracy: 0.9405\n",
            "Epoch 5/10\n",
            "1875/1875 [==============================] - 4s 2ms/step - loss: 0.3808 - accuracy: 0.9464\n",
            "Epoch 6/10\n",
            "1875/1875 [==============================] - 4s 2ms/step - loss: 0.3618 - accuracy: 0.9465\n",
            "Epoch 7/10\n",
            "1875/1875 [==============================] - 4s 2ms/step - loss: 0.3539 - accuracy: 0.9508\n",
            "Epoch 8/10\n",
            "1875/1875 [==============================] - 4s 2ms/step - loss: 0.3433 - accuracy: 0.9525\n",
            "Epoch 9/10\n",
            "1875/1875 [==============================] - 4s 2ms/step - loss: 0.3378 - accuracy: 0.9537\n",
            "Epoch 10/10\n",
            "1875/1875 [==============================] - 4s 2ms/step - loss: 0.3434 - accuracy: 0.9566\n"
          ],
          "name": "stdout"
        },
        {
          "output_type": "execute_result",
          "data": {
            "text/plain": [
              "<tensorflow.python.keras.callbacks.History at 0x7fade4782f50>"
            ]
          },
          "metadata": {
            "tags": []
          },
          "execution_count": 4
        }
      ]
    },
    {
      "cell_type": "code",
      "metadata": {
        "colab": {
          "base_uri": "https://localhost:8080/"
        },
        "id": "R5tYUD5QbRiV",
        "outputId": "066c09dd-ef46-4aa8-eaab-0ab5d42310f5"
      },
      "source": [
        "# 모델을 이용합니다. \n",
        "pred = model.predict(독립[0:5])\n",
        "print(pd.DataFrame(pred).round(2))\n",
        "print(종속[0:5])"
      ],
      "execution_count": 5,
      "outputs": [
        {
          "output_type": "stream",
          "text": [
            "     0    1    2    3    4    5    6    7    8    9\n",
            "0  0.0  0.0  0.0  0.0  0.0  1.0  0.0  0.0  0.0  0.0\n",
            "1  1.0  0.0  0.0  0.0  0.0  0.0  0.0  0.0  0.0  0.0\n",
            "2  0.0  0.0  0.0  0.0  1.0  0.0  0.0  0.0  0.0  0.0\n",
            "3  0.0  1.0  0.0  0.0  0.0  0.0  0.0  0.0  0.0  0.0\n",
            "4  0.0  0.0  0.0  0.0  0.0  0.0  0.0  0.0  0.0  1.0\n",
            "   0  1  2  3  4  5  6  7  8  9\n",
            "0  0  0  0  0  0  1  0  0  0  0\n",
            "1  1  0  0  0  0  0  0  0  0  0\n",
            "2  0  0  0  0  1  0  0  0  0  0\n",
            "3  0  1  0  0  0  0  0  0  0  0\n",
            "4  0  0  0  0  0  0  0  0  0  1\n"
          ],
          "name": "stdout"
        }
      ]
    },
    {
      "cell_type": "code",
      "metadata": {
        "colab": {
          "base_uri": "https://localhost:8080/"
        },
        "id": "RRm7klyWbTg7",
        "outputId": "dfa3e14b-22f2-4d8c-a2eb-f746d9ca914a"
      },
      "source": [
        "# 데이터를 준비하고\n",
        "(독립, 종속), _ = tf.keras.datasets.mnist.load_data()\n",
        "# 독립 = 독립.reshape(60000, 784)\n",
        "종속 = pd.get_dummies(종속)\n",
        "print(독립.shape, 종속.shape)\n",
        " "
      ],
      "execution_count": 6,
      "outputs": [
        {
          "output_type": "stream",
          "text": [
            "(60000, 28, 28) (60000, 10)\n"
          ],
          "name": "stdout"
        }
      ]
    },
    {
      "cell_type": "code",
      "metadata": {
        "id": "OR8jsmwPbgJx"
      },
      "source": [
        "# 모델을 만들고\n",
        "X = tf.keras.layers.Input(shape=[28, 28])\n",
        "H = tf.keras.layers.Flatten()(X)\n",
        "H = tf.keras.layers.Dense(84, activation='swish')(H)\n",
        "Y = tf.keras.layers.Dense(10, activation='softmax')(H)\n",
        "model = tf.keras.models.Model(X, Y)\n",
        "model.compile(loss='categorical_crossentropy', metrics='accuracy')"
      ],
      "execution_count": 7,
      "outputs": []
    },
    {
      "cell_type": "code",
      "metadata": {
        "colab": {
          "base_uri": "https://localhost:8080/"
        },
        "id": "hCxGVG_abjI8",
        "outputId": "bb06939d-69dc-470b-9eac-53c411700e24"
      },
      "source": [
        "# 모델을 학습하고\n",
        "model.fit(독립, 종속, epochs=10)\n",
        " \n",
        "# 모델을 이용합니다. \n",
        "pred = model.predict(독립[0:5])\n",
        "print(pd.DataFrame(pred).round(2))\n",
        "print(종속[0:5])"
      ],
      "execution_count": 8,
      "outputs": [
        {
          "output_type": "stream",
          "text": [
            "Epoch 1/10\n",
            "1875/1875 [==============================] - 5s 2ms/step - loss: 8.3109 - accuracy: 0.8034\n",
            "Epoch 2/10\n",
            "1875/1875 [==============================] - 4s 2ms/step - loss: 0.6011 - accuracy: 0.9063\n",
            "Epoch 3/10\n",
            "1875/1875 [==============================] - 4s 2ms/step - loss: 0.4617 - accuracy: 0.9301\n",
            "Epoch 4/10\n",
            "1875/1875 [==============================] - 4s 2ms/step - loss: 0.4322 - accuracy: 0.9384\n",
            "Epoch 5/10\n",
            "1875/1875 [==============================] - 4s 2ms/step - loss: 0.3974 - accuracy: 0.9403\n",
            "Epoch 6/10\n",
            "1875/1875 [==============================] - 4s 2ms/step - loss: 0.4166 - accuracy: 0.9430\n",
            "Epoch 7/10\n",
            "1875/1875 [==============================] - 4s 2ms/step - loss: 0.3642 - accuracy: 0.9463\n",
            "Epoch 8/10\n",
            "1875/1875 [==============================] - 4s 2ms/step - loss: 0.3499 - accuracy: 0.9484\n",
            "Epoch 9/10\n",
            "1875/1875 [==============================] - 4s 2ms/step - loss: 0.3389 - accuracy: 0.9500\n",
            "Epoch 10/10\n",
            "1875/1875 [==============================] - 4s 2ms/step - loss: 0.3391 - accuracy: 0.9528\n",
            "     0    1    2    3     4    5    6    7    8     9\n",
            "0  0.0  0.0  0.0  0.0  0.00  1.0  0.0  0.0  0.0  0.00\n",
            "1  1.0  0.0  0.0  0.0  0.00  0.0  0.0  0.0  0.0  0.00\n",
            "2  0.0  0.0  0.0  0.0  1.00  0.0  0.0  0.0  0.0  0.00\n",
            "3  0.0  1.0  0.0  0.0  0.00  0.0  0.0  0.0  0.0  0.00\n",
            "4  0.0  0.0  0.0  0.0  0.01  0.0  0.0  0.0  0.0  0.98\n",
            "   0  1  2  3  4  5  6  7  8  9\n",
            "0  0  0  0  0  0  1  0  0  0  0\n",
            "1  1  0  0  0  0  0  0  0  0  0\n",
            "2  0  0  0  0  1  0  0  0  0  0\n",
            "3  0  1  0  0  0  0  0  0  0  0\n",
            "4  0  0  0  0  0  0  0  0  0  1\n"
          ],
          "name": "stdout"
        }
      ]
    },
    {
      "cell_type": "code",
      "metadata": {
        "id": "z85mJ3W9bogz"
      },
      "source": [
        ""
      ],
      "execution_count": null,
      "outputs": []
    }
  ]
}